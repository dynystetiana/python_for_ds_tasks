{
  "cells": [
    {
      "cell_type": "markdown",
      "id": "aed503f1",
      "metadata": {
        "ExecuteTime": {
          "end_time": "2023-07-27T20:14:32.871852Z",
          "start_time": "2023-07-27T20:14:31.036121Z"
        },
        "id": "aed503f1"
      },
      "source": [
        "У завданнях 1-4. Вам наданий простий код на Python, який не відповідає вказівкам PEP8. Ваше завдання — відредагувати код так, аби він відповідав PEP8. Напишіть після редагуванню коду, дотримання яких правил з pep8 ви досягли в відредагованій версі, наприклад\n",
        "```\n",
        "- додала пробіли навколо бінарного оператора\n",
        "- додала два порожні рядки між визначеннями функцій\n",
        "і тд\n",
        "```\n",
        "Також можна зазанчити використані правила коментарями по коду, а не окремим повідомленням.\n",
        "\n",
        "Відредагований код має виконувати весь той самий функціонал, але бути написаний відповідно до вимог до гарного коду на Python! Не забудьте запустити відредагований код, він має бути робочим."
      ]
    },
    {
      "cell_type": "markdown",
      "id": "e7fea147",
      "metadata": {
        "id": "e7fea147"
      },
      "source": [
        "Завдання 1."
      ]
    },
    {
      "cell_type": "code",
      "execution_count": 4,
      "id": "f63d84d7",
      "metadata": {
        "ExecuteTime": {
          "end_time": "2023-07-29T17:02:37.075783Z",
          "start_time": "2023-07-29T17:02:37.035259Z"
        },
        "id": "f63d84d7",
        "colab": {
          "base_uri": "https://localhost:8080/",
          "height": 72
        },
        "outputId": "2f31ff91-2170-4eef-d82b-203acaefe188"
      },
      "outputs": [
        {
          "output_type": "stream",
          "name": "stdout",
          "text": [
            "Hello, John\n"
          ]
        },
        {
          "output_type": "display_data",
          "data": {
            "text/plain": [
              "None"
            ]
          },
          "metadata": {}
        },
        {
          "output_type": "display_data",
          "data": {
            "text/plain": [
              "8"
            ]
          },
          "metadata": {}
        }
      ],
      "source": [
        "def greet(name):print(f\"Hello, {name}\")\n",
        "def add(n1,n2):return n1+n2\n",
        "\n",
        "x = 5;y = 3\n",
        "display(greet(\"John\"),add(x,y))\n"
      ]
    },
    {
      "cell_type": "code",
      "execution_count": 9,
      "id": "41b7e672",
      "metadata": {
        "id": "41b7e672",
        "colab": {
          "base_uri": "https://localhost:8080/",
          "height": 72
        },
        "outputId": "e000284f-69d3-4f25-c400-d6344efebda1"
      },
      "outputs": [
        {
          "output_type": "stream",
          "name": "stdout",
          "text": [
            "Hello, John\n"
          ]
        },
        {
          "output_type": "display_data",
          "data": {
            "text/plain": [
              "None"
            ]
          },
          "metadata": {}
        },
        {
          "output_type": "display_data",
          "data": {
            "text/plain": [
              "8"
            ]
          },
          "metadata": {}
        }
      ],
      "source": [
        "# Перейменувала функції для кращого розуміння коду\n",
        "def greet_message(name: str) -> str:\n",
        "    print(f\"Hello, {name}\")\n",
        "\n",
        "# додала два порожні рядки між визначеннями функцій\n",
        "def add_numers(n1, n2):\n",
        "    return n1 + n2\n",
        "\n",
        "# додала порожній рядок перед оголошенням змінних\n",
        "x = 5\n",
        "y = 3\n",
        "\n",
        "display(greet_message(\"John\"), add_numers(x, y))\n",
        "# додала пробіли навколо бінарного оператора"
      ]
    },
    {
      "cell_type": "markdown",
      "id": "cea88baf",
      "metadata": {
        "id": "cea88baf"
      },
      "source": [
        "Завдання 2."
      ]
    },
    {
      "cell_type": "code",
      "execution_count": 6,
      "id": "dfb6d2b5",
      "metadata": {
        "ExecuteTime": {
          "end_time": "2023-07-29T17:05:49.706098Z",
          "start_time": "2023-07-29T17:05:49.688255Z"
        },
        "id": "dfb6d2b5",
        "colab": {
          "base_uri": "https://localhost:8080/"
        },
        "outputId": "213d30da-b090-4066-f065-cf88962909d1"
      },
      "outputs": [
        {
          "output_type": "stream",
          "name": "stdout",
          "text": [
            "Area: 78.53981633974483 Circumference: 31.41592653589793\n"
          ]
        }
      ],
      "source": [
        "from math import *\n",
        "def calcArea(r):return pi*r**2\n",
        "def calcCircumference(r):return 2*pi*r\n",
        "\n",
        "radius=5\n",
        "print(\"Area:\",calcArea(radius),\"Circumference:\",calcCircumference(radius))"
      ]
    },
    {
      "cell_type": "code",
      "execution_count": 14,
      "id": "df263672",
      "metadata": {
        "id": "df263672",
        "colab": {
          "base_uri": "https://localhost:8080/"
        },
        "outputId": "b6bfe87c-8a74-440f-cd47-a381414bbd40"
      },
      "outputs": [
        {
          "output_type": "stream",
          "name": "stdout",
          "text": [
            "Area: 78.53981633974483, Circumference: 31.41592653589793\n"
          ]
        }
      ],
      "source": [
        "from math import pi #Імпорт тільки необхідних змінних\n",
        "\n",
        "\n",
        "def calc_area(r): #Змінено імена функцій\n",
        "    return pi * r**2 #додала пробіли навколо бінарного оператора\n",
        "\n",
        "\n",
        "def calc_circumference(r):\n",
        "    return 2 * pi * r\n",
        "# додала пробіли навколо бінарного оператора\n",
        "# додала два порожні рядки між визначеннями функцій\n",
        "\n",
        "radius = 5 # Додано пробіли навколо оператора присвоювання\n",
        "\n",
        "print(f\"Area: {calc_area(radius)}, Circumference: {calc_circumference(radius)}\") #f-string для кращої читабельності коду"
      ]
    },
    {
      "cell_type": "markdown",
      "id": "1fd691b7",
      "metadata": {
        "id": "1fd691b7"
      },
      "source": [
        "Завдання 3."
      ]
    },
    {
      "cell_type": "code",
      "execution_count": null,
      "id": "1d5acb2d",
      "metadata": {
        "ExecuteTime": {
          "end_time": "2023-07-29T17:06:18.612622Z",
          "start_time": "2023-07-29T17:06:18.598477Z"
        },
        "id": "1d5acb2d"
      },
      "outputs": [],
      "source": [
        "class animal: pass\n",
        "class dog(animal):\n",
        "    def __init__(self,name):\n",
        "        self.name=name\n",
        "        self.type='Dog'"
      ]
    },
    {
      "cell_type": "code",
      "execution_count": null,
      "id": "0d4b2b8a",
      "metadata": {
        "id": "0d4b2b8a"
      },
      "outputs": [],
      "source": [
        "class Animal: # Імена класів у CamelCase\n",
        "    pass\n",
        "\n",
        "\n",
        "class Dog(Animal):\n",
        "\n",
        "    def __init__(self, name):\n",
        "        self.name = name # Додано пробіли навколо оператора присвоювання\n",
        "        self.type = \"Dog\" # Використано подвійні лапки для консистентності"
      ]
    },
    {
      "cell_type": "markdown",
      "id": "7d1d4f5d",
      "metadata": {
        "id": "7d1d4f5d"
      },
      "source": [
        "Завдання 4."
      ]
    },
    {
      "cell_type": "code",
      "execution_count": 15,
      "id": "a91c1cc4",
      "metadata": {
        "ExecuteTime": {
          "end_time": "2023-07-29T17:06:47.180263Z",
          "start_time": "2023-07-29T17:06:47.173617Z"
        },
        "id": "a91c1cc4",
        "colab": {
          "base_uri": "https://localhost:8080/"
        },
        "outputId": "16806a59-7c45-4277-8797-3c850dab4f1b"
      },
      "outputs": [
        {
          "output_type": "stream",
          "name": "stdout",
          "text": [
            "1\n",
            "2\n",
            "3\n",
            "4\n",
            "5\n"
          ]
        }
      ],
      "source": [
        "list=[1,2,3,4,5]\n",
        "for i in range(len(list)):print(list[i])"
      ]
    },
    {
      "cell_type": "code",
      "execution_count": 17,
      "id": "c0f9541a",
      "metadata": {
        "id": "c0f9541a",
        "colab": {
          "base_uri": "https://localhost:8080/"
        },
        "outputId": "6609ffc2-0d2e-45ab-91f2-5d5a1c4e9118"
      },
      "outputs": [
        {
          "output_type": "stream",
          "name": "stdout",
          "text": [
            "1\n",
            "2\n",
            "3\n",
            "4\n",
            "5\n"
          ]
        }
      ],
      "source": [
        "my_list = [1, 2, 3, 4, 5]  # Уникаємо використання `list` як імені змінної\n",
        "\n",
        "for item in my_list:  # Використовуємо ітерацію напряму\n",
        "    print(item)  # Виправлено відступ"
      ]
    },
    {
      "cell_type": "markdown",
      "id": "8b0487e6",
      "metadata": {
        "id": "8b0487e6"
      },
      "source": [
        "5.У вас є DataFrame df, що представляє результати тестів студентів з математики, англійської мови та історії. Поточний код обчислює середній бал для кожного студента шляхом ітерації за рядками DataFrame за допомогою iterrows().\n",
        "\n",
        "Ваше завдання полягає в тому, щоб змінити код так, аби уникнути використання iterrows() і замість цього застосувати більш ефективне та читабельне рішення відповідно до правил, озвучених у лекції. Рефакторинг треба зробити лише частині, де рахуються середні, імпорт і визначення датафрейму лишаємо без змін."
      ]
    },
    {
      "cell_type": "code",
      "execution_count": 18,
      "id": "5b3cc648",
      "metadata": {
        "ExecuteTime": {
          "end_time": "2023-07-29T17:15:55.926882Z",
          "start_time": "2023-07-29T17:15:55.686415Z"
        },
        "id": "5b3cc648"
      },
      "outputs": [],
      "source": [
        "import pandas as pd\n",
        "\n",
        "df = pd.DataFrame({\n",
        "    'student': ['Alice', 'Bob', 'Charlie', 'David'],\n",
        "    'math_score': [89, 94, 77, 85],\n",
        "    'english_score': [92, 88, 79, 85],\n",
        "    'history_score': [84, 92, 81, 89]\n",
        "})"
      ]
    },
    {
      "cell_type": "code",
      "execution_count": 20,
      "id": "f5858889",
      "metadata": {
        "ExecuteTime": {
          "end_time": "2023-07-29T17:15:55.926882Z",
          "start_time": "2023-07-29T17:15:55.686415Z"
        },
        "id": "f5858889"
      },
      "outputs": [],
      "source": [
        "averages = []\n",
        "for _, row in df.iterrows():\n",
        "    averages.append((row['math_score'] + row['english_score'] + row['history_score']) / 3)\n",
        "\n",
        "df['average_score'] = averages"
      ]
    },
    {
      "cell_type": "code",
      "execution_count": 22,
      "id": "74cea4fc",
      "metadata": {
        "id": "74cea4fc",
        "colab": {
          "base_uri": "https://localhost:8080/",
          "height": 175
        },
        "outputId": "dbe1e5ef-be06-443d-8ea9-7149f05a2e01"
      },
      "outputs": [
        {
          "output_type": "execute_result",
          "data": {
            "text/plain": [
              "   student  math_score  english_score  history_score  average_score\n",
              "0    Alice          89             92             84      88.333333\n",
              "1      Bob          94             88             92      91.333333\n",
              "2  Charlie          77             79             81      79.000000\n",
              "3    David          85             85             89      86.333333"
            ],
            "text/html": [
              "\n",
              "  <div id=\"df-e2433984-8d67-497b-908f-667410eb6b77\" class=\"colab-df-container\">\n",
              "    <div>\n",
              "<style scoped>\n",
              "    .dataframe tbody tr th:only-of-type {\n",
              "        vertical-align: middle;\n",
              "    }\n",
              "\n",
              "    .dataframe tbody tr th {\n",
              "        vertical-align: top;\n",
              "    }\n",
              "\n",
              "    .dataframe thead th {\n",
              "        text-align: right;\n",
              "    }\n",
              "</style>\n",
              "<table border=\"1\" class=\"dataframe\">\n",
              "  <thead>\n",
              "    <tr style=\"text-align: right;\">\n",
              "      <th></th>\n",
              "      <th>student</th>\n",
              "      <th>math_score</th>\n",
              "      <th>english_score</th>\n",
              "      <th>history_score</th>\n",
              "      <th>average_score</th>\n",
              "    </tr>\n",
              "  </thead>\n",
              "  <tbody>\n",
              "    <tr>\n",
              "      <th>0</th>\n",
              "      <td>Alice</td>\n",
              "      <td>89</td>\n",
              "      <td>92</td>\n",
              "      <td>84</td>\n",
              "      <td>88.333333</td>\n",
              "    </tr>\n",
              "    <tr>\n",
              "      <th>1</th>\n",
              "      <td>Bob</td>\n",
              "      <td>94</td>\n",
              "      <td>88</td>\n",
              "      <td>92</td>\n",
              "      <td>91.333333</td>\n",
              "    </tr>\n",
              "    <tr>\n",
              "      <th>2</th>\n",
              "      <td>Charlie</td>\n",
              "      <td>77</td>\n",
              "      <td>79</td>\n",
              "      <td>81</td>\n",
              "      <td>79.000000</td>\n",
              "    </tr>\n",
              "    <tr>\n",
              "      <th>3</th>\n",
              "      <td>David</td>\n",
              "      <td>85</td>\n",
              "      <td>85</td>\n",
              "      <td>89</td>\n",
              "      <td>86.333333</td>\n",
              "    </tr>\n",
              "  </tbody>\n",
              "</table>\n",
              "</div>\n",
              "    <div class=\"colab-df-buttons\">\n",
              "\n",
              "  <div class=\"colab-df-container\">\n",
              "    <button class=\"colab-df-convert\" onclick=\"convertToInteractive('df-e2433984-8d67-497b-908f-667410eb6b77')\"\n",
              "            title=\"Convert this dataframe to an interactive table.\"\n",
              "            style=\"display:none;\">\n",
              "\n",
              "  <svg xmlns=\"http://www.w3.org/2000/svg\" height=\"24px\" viewBox=\"0 -960 960 960\">\n",
              "    <path d=\"M120-120v-720h720v720H120Zm60-500h600v-160H180v160Zm220 220h160v-160H400v160Zm0 220h160v-160H400v160ZM180-400h160v-160H180v160Zm440 0h160v-160H620v160ZM180-180h160v-160H180v160Zm440 0h160v-160H620v160Z\"/>\n",
              "  </svg>\n",
              "    </button>\n",
              "\n",
              "  <style>\n",
              "    .colab-df-container {\n",
              "      display:flex;\n",
              "      gap: 12px;\n",
              "    }\n",
              "\n",
              "    .colab-df-convert {\n",
              "      background-color: #E8F0FE;\n",
              "      border: none;\n",
              "      border-radius: 50%;\n",
              "      cursor: pointer;\n",
              "      display: none;\n",
              "      fill: #1967D2;\n",
              "      height: 32px;\n",
              "      padding: 0 0 0 0;\n",
              "      width: 32px;\n",
              "    }\n",
              "\n",
              "    .colab-df-convert:hover {\n",
              "      background-color: #E2EBFA;\n",
              "      box-shadow: 0px 1px 2px rgba(60, 64, 67, 0.3), 0px 1px 3px 1px rgba(60, 64, 67, 0.15);\n",
              "      fill: #174EA6;\n",
              "    }\n",
              "\n",
              "    .colab-df-buttons div {\n",
              "      margin-bottom: 4px;\n",
              "    }\n",
              "\n",
              "    [theme=dark] .colab-df-convert {\n",
              "      background-color: #3B4455;\n",
              "      fill: #D2E3FC;\n",
              "    }\n",
              "\n",
              "    [theme=dark] .colab-df-convert:hover {\n",
              "      background-color: #434B5C;\n",
              "      box-shadow: 0px 1px 3px 1px rgba(0, 0, 0, 0.15);\n",
              "      filter: drop-shadow(0px 1px 2px rgba(0, 0, 0, 0.3));\n",
              "      fill: #FFFFFF;\n",
              "    }\n",
              "  </style>\n",
              "\n",
              "    <script>\n",
              "      const buttonEl =\n",
              "        document.querySelector('#df-e2433984-8d67-497b-908f-667410eb6b77 button.colab-df-convert');\n",
              "      buttonEl.style.display =\n",
              "        google.colab.kernel.accessAllowed ? 'block' : 'none';\n",
              "\n",
              "      async function convertToInteractive(key) {\n",
              "        const element = document.querySelector('#df-e2433984-8d67-497b-908f-667410eb6b77');\n",
              "        const dataTable =\n",
              "          await google.colab.kernel.invokeFunction('convertToInteractive',\n",
              "                                                    [key], {});\n",
              "        if (!dataTable) return;\n",
              "\n",
              "        const docLinkHtml = 'Like what you see? Visit the ' +\n",
              "          '<a target=\"_blank\" href=https://colab.research.google.com/notebooks/data_table.ipynb>data table notebook</a>'\n",
              "          + ' to learn more about interactive tables.';\n",
              "        element.innerHTML = '';\n",
              "        dataTable['output_type'] = 'display_data';\n",
              "        await google.colab.output.renderOutput(dataTable, element);\n",
              "        const docLink = document.createElement('div');\n",
              "        docLink.innerHTML = docLinkHtml;\n",
              "        element.appendChild(docLink);\n",
              "      }\n",
              "    </script>\n",
              "  </div>\n",
              "\n",
              "\n",
              "<div id=\"df-99e86ae3-b408-4677-9e4f-64bf08842a37\">\n",
              "  <button class=\"colab-df-quickchart\" onclick=\"quickchart('df-99e86ae3-b408-4677-9e4f-64bf08842a37')\"\n",
              "            title=\"Suggest charts\"\n",
              "            style=\"display:none;\">\n",
              "\n",
              "<svg xmlns=\"http://www.w3.org/2000/svg\" height=\"24px\"viewBox=\"0 0 24 24\"\n",
              "     width=\"24px\">\n",
              "    <g>\n",
              "        <path d=\"M19 3H5c-1.1 0-2 .9-2 2v14c0 1.1.9 2 2 2h14c1.1 0 2-.9 2-2V5c0-1.1-.9-2-2-2zM9 17H7v-7h2v7zm4 0h-2V7h2v10zm4 0h-2v-4h2v4z\"/>\n",
              "    </g>\n",
              "</svg>\n",
              "  </button>\n",
              "\n",
              "<style>\n",
              "  .colab-df-quickchart {\n",
              "      --bg-color: #E8F0FE;\n",
              "      --fill-color: #1967D2;\n",
              "      --hover-bg-color: #E2EBFA;\n",
              "      --hover-fill-color: #174EA6;\n",
              "      --disabled-fill-color: #AAA;\n",
              "      --disabled-bg-color: #DDD;\n",
              "  }\n",
              "\n",
              "  [theme=dark] .colab-df-quickchart {\n",
              "      --bg-color: #3B4455;\n",
              "      --fill-color: #D2E3FC;\n",
              "      --hover-bg-color: #434B5C;\n",
              "      --hover-fill-color: #FFFFFF;\n",
              "      --disabled-bg-color: #3B4455;\n",
              "      --disabled-fill-color: #666;\n",
              "  }\n",
              "\n",
              "  .colab-df-quickchart {\n",
              "    background-color: var(--bg-color);\n",
              "    border: none;\n",
              "    border-radius: 50%;\n",
              "    cursor: pointer;\n",
              "    display: none;\n",
              "    fill: var(--fill-color);\n",
              "    height: 32px;\n",
              "    padding: 0;\n",
              "    width: 32px;\n",
              "  }\n",
              "\n",
              "  .colab-df-quickchart:hover {\n",
              "    background-color: var(--hover-bg-color);\n",
              "    box-shadow: 0 1px 2px rgba(60, 64, 67, 0.3), 0 1px 3px 1px rgba(60, 64, 67, 0.15);\n",
              "    fill: var(--button-hover-fill-color);\n",
              "  }\n",
              "\n",
              "  .colab-df-quickchart-complete:disabled,\n",
              "  .colab-df-quickchart-complete:disabled:hover {\n",
              "    background-color: var(--disabled-bg-color);\n",
              "    fill: var(--disabled-fill-color);\n",
              "    box-shadow: none;\n",
              "  }\n",
              "\n",
              "  .colab-df-spinner {\n",
              "    border: 2px solid var(--fill-color);\n",
              "    border-color: transparent;\n",
              "    border-bottom-color: var(--fill-color);\n",
              "    animation:\n",
              "      spin 1s steps(1) infinite;\n",
              "  }\n",
              "\n",
              "  @keyframes spin {\n",
              "    0% {\n",
              "      border-color: transparent;\n",
              "      border-bottom-color: var(--fill-color);\n",
              "      border-left-color: var(--fill-color);\n",
              "    }\n",
              "    20% {\n",
              "      border-color: transparent;\n",
              "      border-left-color: var(--fill-color);\n",
              "      border-top-color: var(--fill-color);\n",
              "    }\n",
              "    30% {\n",
              "      border-color: transparent;\n",
              "      border-left-color: var(--fill-color);\n",
              "      border-top-color: var(--fill-color);\n",
              "      border-right-color: var(--fill-color);\n",
              "    }\n",
              "    40% {\n",
              "      border-color: transparent;\n",
              "      border-right-color: var(--fill-color);\n",
              "      border-top-color: var(--fill-color);\n",
              "    }\n",
              "    60% {\n",
              "      border-color: transparent;\n",
              "      border-right-color: var(--fill-color);\n",
              "    }\n",
              "    80% {\n",
              "      border-color: transparent;\n",
              "      border-right-color: var(--fill-color);\n",
              "      border-bottom-color: var(--fill-color);\n",
              "    }\n",
              "    90% {\n",
              "      border-color: transparent;\n",
              "      border-bottom-color: var(--fill-color);\n",
              "    }\n",
              "  }\n",
              "</style>\n",
              "\n",
              "  <script>\n",
              "    async function quickchart(key) {\n",
              "      const quickchartButtonEl =\n",
              "        document.querySelector('#' + key + ' button');\n",
              "      quickchartButtonEl.disabled = true;  // To prevent multiple clicks.\n",
              "      quickchartButtonEl.classList.add('colab-df-spinner');\n",
              "      try {\n",
              "        const charts = await google.colab.kernel.invokeFunction(\n",
              "            'suggestCharts', [key], {});\n",
              "      } catch (error) {\n",
              "        console.error('Error during call to suggestCharts:', error);\n",
              "      }\n",
              "      quickchartButtonEl.classList.remove('colab-df-spinner');\n",
              "      quickchartButtonEl.classList.add('colab-df-quickchart-complete');\n",
              "    }\n",
              "    (() => {\n",
              "      let quickchartButtonEl =\n",
              "        document.querySelector('#df-99e86ae3-b408-4677-9e4f-64bf08842a37 button');\n",
              "      quickchartButtonEl.style.display =\n",
              "        google.colab.kernel.accessAllowed ? 'block' : 'none';\n",
              "    })();\n",
              "  </script>\n",
              "</div>\n",
              "    </div>\n",
              "  </div>\n"
            ],
            "application/vnd.google.colaboratory.intrinsic+json": {
              "type": "dataframe",
              "variable_name": "df",
              "summary": "{\n  \"name\": \"df\",\n  \"rows\": 4,\n  \"fields\": [\n    {\n      \"column\": \"student\",\n      \"properties\": {\n        \"dtype\": \"string\",\n        \"num_unique_values\": 4,\n        \"samples\": [\n          \"Bob\",\n          \"David\",\n          \"Alice\"\n        ],\n        \"semantic_type\": \"\",\n        \"description\": \"\"\n      }\n    },\n    {\n      \"column\": \"math_score\",\n      \"properties\": {\n        \"dtype\": \"number\",\n        \"std\": 7,\n        \"min\": 77,\n        \"max\": 94,\n        \"num_unique_values\": 4,\n        \"samples\": [\n          94,\n          85,\n          89\n        ],\n        \"semantic_type\": \"\",\n        \"description\": \"\"\n      }\n    },\n    {\n      \"column\": \"english_score\",\n      \"properties\": {\n        \"dtype\": \"number\",\n        \"std\": 5,\n        \"min\": 79,\n        \"max\": 92,\n        \"num_unique_values\": 4,\n        \"samples\": [\n          88,\n          85,\n          92\n        ],\n        \"semantic_type\": \"\",\n        \"description\": \"\"\n      }\n    },\n    {\n      \"column\": \"history_score\",\n      \"properties\": {\n        \"dtype\": \"number\",\n        \"std\": 4,\n        \"min\": 81,\n        \"max\": 92,\n        \"num_unique_values\": 4,\n        \"samples\": [\n          92,\n          89,\n          84\n        ],\n        \"semantic_type\": \"\",\n        \"description\": \"\"\n      }\n    },\n    {\n      \"column\": \"average_score\",\n      \"properties\": {\n        \"dtype\": \"number\",\n        \"std\": 5.251983752196241,\n        \"min\": 79.0,\n        \"max\": 91.33333333333333,\n        \"num_unique_values\": 4,\n        \"samples\": [\n          91.33333333333333,\n          86.33333333333333,\n          88.33333333333333\n        ],\n        \"semantic_type\": \"\",\n        \"description\": \"\"\n      }\n    }\n  ]\n}"
            }
          },
          "metadata": {},
          "execution_count": 22
        }
      ],
      "source": [
        "df['average_score'] = df.iloc[:, 1:].mean(axis=1)\n",
        "df"
      ]
    },
    {
      "cell_type": "markdown",
      "id": "34fb1db9",
      "metadata": {
        "id": "34fb1db9"
      },
      "source": [
        "6.У Вас є великий DataFrame df, що представляє транзакції продажу в магазині. Цей DataFrame містить понад 1 мільйон рядків і кілька стовпців, зокрема «product_name», «product_category», «product_price» і «transaction_date».\n",
        "\n",
        "І «product_name», і «product_category» є рядками, що представляють численні, але обмежені унікальні назви продуктів і категорії відповідно.\n",
        "\n",
        "Напишіть код для ефективного перетворення стовпців «product_name» і «product_category» на категорійний тип для ефективного використання пам’яті.\n",
        "Спробуйте вирішити це завдання, мінімізуючи використання пам'яті та зберігаючи читабельність коду. Крім того, виміряйте використання пам’яті до та після перетворення, щоб продемонструвати підвищення ефективності.\n",
        "\n",
        "Порівняйте кількість памʼяті, яку займає наданий набір даних і новий, створений Вами. В лекції був приклад. В скільки разів менше памʼяті займає новий датафрейм?"
      ]
    },
    {
      "cell_type": "code",
      "execution_count": 24,
      "id": "d4926909",
      "metadata": {
        "ExecuteTime": {
          "end_time": "2023-07-29T21:19:30.009527Z",
          "start_time": "2023-07-29T21:19:29.595210Z"
        },
        "id": "d4926909",
        "colab": {
          "base_uri": "https://localhost:8080/"
        },
        "outputId": "ead3c5c0-fd19-4af3-8960-d45e63f2acb5"
      },
      "outputs": [
        {
          "output_type": "stream",
          "name": "stdout",
          "text": [
            "Пам'ять до перетворення: 134.85 MB\n",
            "Пам'ять після перетворення: 17.17 MB\n",
            "Оптимізація пам'яті: у 7.86 разів менше\n"
          ]
        }
      ],
      "source": [
        "import pandas as pd\n",
        "import numpy as np\n",
        "\n",
        "np.random.seed(0)\n",
        "\n",
        "products = ['apple', 'banana', 'cherry', 'dates', 'elderberry']\n",
        "categories = ['fruit', 'fruit', 'fruit', 'fruit', 'fruit']\n",
        "\n",
        "N_ROWS = 10**6\n",
        "df = pd.DataFrame({\n",
        "    'product_name': np.random.choice(products, N_ROWS),\n",
        "    'product_category': np.random.choice(categories, N_ROWS),\n",
        "    'product_price': np.random.uniform(1, 10, N_ROWS),\n",
        "    'transaction_date': pd.date_range(start='1/1/2000', periods=N_ROWS, freq='h')\n",
        "})\n",
        "\n",
        "memory_before = df.memory_usage(deep=True).sum()\n",
        "print(f\"Пам'ять до перетворення: {memory_before / 1024**2:.2f} MB\")\n",
        "\n",
        "# Перетворюємо рядкові стовпці в категорійний тип\n",
        "df['product_name'] = df['product_name'].astype('category')\n",
        "df['product_category'] = df['product_category'].astype('category')\n",
        "\n",
        "# Вимірюємо використання пам'яті після перетворення\n",
        "memory_after = df.memory_usage(deep=True).sum()\n",
        "print(f\"Пам'ять після перетворення: {memory_after / 1024**2:.2f} MB\")\n",
        "\n",
        "\n",
        "compression_ratio = memory_before / memory_after\n",
        "print(f\"Оптимізація пам'яті: у {compression_ratio:.2f} разів менше\")"
      ]
    },
    {
      "cell_type": "markdown",
      "id": "131cc08d",
      "metadata": {
        "id": "131cc08d"
      },
      "source": [
        "7.В цьому завданні кілька пунктів. Треба виконати усі послідовно.   \n",
        "    7.1. Завантажте дані у pandas dataframe з файла `ecommerce_data.csv`. Обовʼязково при завантаженні вкажіть параметр `encoding = 'ISO-8859-1'`, без нього буде помилка.  \n",
        "    7.2. Заповніть пропущені значення в колонці CustomerID на -1 та перетворіть тип цієї колонки на str, адже зараз вона типу float, а це не правильний тип даних для ідентифікатора клієнта.  \n",
        "    7.3. З допомогою бібліотеки sweetviz побудуйте html звіт, який порівнює дані для країни \"Germany\" і країни \"France\". У Вас можуть виникнути багато попереджень (Warning), їх рекомендую вимкнути наступним шматком коду   \n",
        "    \n",
        "   \n",
        "    import warnings\n",
        "\n",
        "    with warnings.catch_warnings(record=True):\n",
        "        # your code\n",
        "    \n",
        "    \n",
        "   7.4.Напишіть 5 відмінностей для двох зазначених країн на основі побудованого звіту, без виконання додаткового аналізу іншими інструментами."
      ]
    },
    {
      "cell_type": "code",
      "execution_count": 25,
      "id": "17200e77",
      "metadata": {
        "id": "17200e77",
        "colab": {
          "base_uri": "https://localhost:8080/"
        },
        "outputId": "8f68fdd1-609a-41cd-b7f6-8364531d9b57"
      },
      "outputs": [
        {
          "output_type": "stream",
          "name": "stdout",
          "text": [
            "Mounted at /content/drive\n"
          ]
        }
      ],
      "source": [
        "from google.colab import drive\n",
        "drive.mount('/content/drive')"
      ]
    },
    {
      "cell_type": "code",
      "source": [
        "import pandas as pd\n",
        "\n",
        "df = pd.read_csv(\"drive/MyDrive/Colab Notebooks/data/ecommerce_data.csv\", encoding=\"ISO-8859-1\")\n",
        "\n",
        "df.head()"
      ],
      "metadata": {
        "colab": {
          "base_uri": "https://localhost:8080/",
          "height": 206
        },
        "id": "BDGKa-qWxcN0",
        "outputId": "c908318f-7770-4dd0-ac19-1ad566f24ac2"
      },
      "id": "BDGKa-qWxcN0",
      "execution_count": 29,
      "outputs": [
        {
          "output_type": "execute_result",
          "data": {
            "text/plain": [
              "  InvoiceNo StockCode                          Description  Quantity  \\\n",
              "0    536365    85123A   WHITE HANGING HEART T-LIGHT HOLDER         6   \n",
              "1    536365     71053                  WHITE METAL LANTERN         6   \n",
              "2    536365    84406B       CREAM CUPID HEARTS COAT HANGER         8   \n",
              "3    536365    84029G  KNITTED UNION FLAG HOT WATER BOTTLE         6   \n",
              "4    536365    84029E       RED WOOLLY HOTTIE WHITE HEART.         6   \n",
              "\n",
              "      InvoiceDate  UnitPrice  CustomerID         Country  \n",
              "0  12/1/2010 8:26       2.55     17850.0  United Kingdom  \n",
              "1  12/1/2010 8:26       3.39     17850.0  United Kingdom  \n",
              "2  12/1/2010 8:26       2.75     17850.0  United Kingdom  \n",
              "3  12/1/2010 8:26       3.39     17850.0  United Kingdom  \n",
              "4  12/1/2010 8:26       3.39     17850.0  United Kingdom  "
            ],
            "text/html": [
              "\n",
              "  <div id=\"df-c87c38fd-ca5e-4703-b532-6c418c18ab52\" class=\"colab-df-container\">\n",
              "    <div>\n",
              "<style scoped>\n",
              "    .dataframe tbody tr th:only-of-type {\n",
              "        vertical-align: middle;\n",
              "    }\n",
              "\n",
              "    .dataframe tbody tr th {\n",
              "        vertical-align: top;\n",
              "    }\n",
              "\n",
              "    .dataframe thead th {\n",
              "        text-align: right;\n",
              "    }\n",
              "</style>\n",
              "<table border=\"1\" class=\"dataframe\">\n",
              "  <thead>\n",
              "    <tr style=\"text-align: right;\">\n",
              "      <th></th>\n",
              "      <th>InvoiceNo</th>\n",
              "      <th>StockCode</th>\n",
              "      <th>Description</th>\n",
              "      <th>Quantity</th>\n",
              "      <th>InvoiceDate</th>\n",
              "      <th>UnitPrice</th>\n",
              "      <th>CustomerID</th>\n",
              "      <th>Country</th>\n",
              "    </tr>\n",
              "  </thead>\n",
              "  <tbody>\n",
              "    <tr>\n",
              "      <th>0</th>\n",
              "      <td>536365</td>\n",
              "      <td>85123A</td>\n",
              "      <td>WHITE HANGING HEART T-LIGHT HOLDER</td>\n",
              "      <td>6</td>\n",
              "      <td>12/1/2010 8:26</td>\n",
              "      <td>2.55</td>\n",
              "      <td>17850.0</td>\n",
              "      <td>United Kingdom</td>\n",
              "    </tr>\n",
              "    <tr>\n",
              "      <th>1</th>\n",
              "      <td>536365</td>\n",
              "      <td>71053</td>\n",
              "      <td>WHITE METAL LANTERN</td>\n",
              "      <td>6</td>\n",
              "      <td>12/1/2010 8:26</td>\n",
              "      <td>3.39</td>\n",
              "      <td>17850.0</td>\n",
              "      <td>United Kingdom</td>\n",
              "    </tr>\n",
              "    <tr>\n",
              "      <th>2</th>\n",
              "      <td>536365</td>\n",
              "      <td>84406B</td>\n",
              "      <td>CREAM CUPID HEARTS COAT HANGER</td>\n",
              "      <td>8</td>\n",
              "      <td>12/1/2010 8:26</td>\n",
              "      <td>2.75</td>\n",
              "      <td>17850.0</td>\n",
              "      <td>United Kingdom</td>\n",
              "    </tr>\n",
              "    <tr>\n",
              "      <th>3</th>\n",
              "      <td>536365</td>\n",
              "      <td>84029G</td>\n",
              "      <td>KNITTED UNION FLAG HOT WATER BOTTLE</td>\n",
              "      <td>6</td>\n",
              "      <td>12/1/2010 8:26</td>\n",
              "      <td>3.39</td>\n",
              "      <td>17850.0</td>\n",
              "      <td>United Kingdom</td>\n",
              "    </tr>\n",
              "    <tr>\n",
              "      <th>4</th>\n",
              "      <td>536365</td>\n",
              "      <td>84029E</td>\n",
              "      <td>RED WOOLLY HOTTIE WHITE HEART.</td>\n",
              "      <td>6</td>\n",
              "      <td>12/1/2010 8:26</td>\n",
              "      <td>3.39</td>\n",
              "      <td>17850.0</td>\n",
              "      <td>United Kingdom</td>\n",
              "    </tr>\n",
              "  </tbody>\n",
              "</table>\n",
              "</div>\n",
              "    <div class=\"colab-df-buttons\">\n",
              "\n",
              "  <div class=\"colab-df-container\">\n",
              "    <button class=\"colab-df-convert\" onclick=\"convertToInteractive('df-c87c38fd-ca5e-4703-b532-6c418c18ab52')\"\n",
              "            title=\"Convert this dataframe to an interactive table.\"\n",
              "            style=\"display:none;\">\n",
              "\n",
              "  <svg xmlns=\"http://www.w3.org/2000/svg\" height=\"24px\" viewBox=\"0 -960 960 960\">\n",
              "    <path d=\"M120-120v-720h720v720H120Zm60-500h600v-160H180v160Zm220 220h160v-160H400v160Zm0 220h160v-160H400v160ZM180-400h160v-160H180v160Zm440 0h160v-160H620v160ZM180-180h160v-160H180v160Zm440 0h160v-160H620v160Z\"/>\n",
              "  </svg>\n",
              "    </button>\n",
              "\n",
              "  <style>\n",
              "    .colab-df-container {\n",
              "      display:flex;\n",
              "      gap: 12px;\n",
              "    }\n",
              "\n",
              "    .colab-df-convert {\n",
              "      background-color: #E8F0FE;\n",
              "      border: none;\n",
              "      border-radius: 50%;\n",
              "      cursor: pointer;\n",
              "      display: none;\n",
              "      fill: #1967D2;\n",
              "      height: 32px;\n",
              "      padding: 0 0 0 0;\n",
              "      width: 32px;\n",
              "    }\n",
              "\n",
              "    .colab-df-convert:hover {\n",
              "      background-color: #E2EBFA;\n",
              "      box-shadow: 0px 1px 2px rgba(60, 64, 67, 0.3), 0px 1px 3px 1px rgba(60, 64, 67, 0.15);\n",
              "      fill: #174EA6;\n",
              "    }\n",
              "\n",
              "    .colab-df-buttons div {\n",
              "      margin-bottom: 4px;\n",
              "    }\n",
              "\n",
              "    [theme=dark] .colab-df-convert {\n",
              "      background-color: #3B4455;\n",
              "      fill: #D2E3FC;\n",
              "    }\n",
              "\n",
              "    [theme=dark] .colab-df-convert:hover {\n",
              "      background-color: #434B5C;\n",
              "      box-shadow: 0px 1px 3px 1px rgba(0, 0, 0, 0.15);\n",
              "      filter: drop-shadow(0px 1px 2px rgba(0, 0, 0, 0.3));\n",
              "      fill: #FFFFFF;\n",
              "    }\n",
              "  </style>\n",
              "\n",
              "    <script>\n",
              "      const buttonEl =\n",
              "        document.querySelector('#df-c87c38fd-ca5e-4703-b532-6c418c18ab52 button.colab-df-convert');\n",
              "      buttonEl.style.display =\n",
              "        google.colab.kernel.accessAllowed ? 'block' : 'none';\n",
              "\n",
              "      async function convertToInteractive(key) {\n",
              "        const element = document.querySelector('#df-c87c38fd-ca5e-4703-b532-6c418c18ab52');\n",
              "        const dataTable =\n",
              "          await google.colab.kernel.invokeFunction('convertToInteractive',\n",
              "                                                    [key], {});\n",
              "        if (!dataTable) return;\n",
              "\n",
              "        const docLinkHtml = 'Like what you see? Visit the ' +\n",
              "          '<a target=\"_blank\" href=https://colab.research.google.com/notebooks/data_table.ipynb>data table notebook</a>'\n",
              "          + ' to learn more about interactive tables.';\n",
              "        element.innerHTML = '';\n",
              "        dataTable['output_type'] = 'display_data';\n",
              "        await google.colab.output.renderOutput(dataTable, element);\n",
              "        const docLink = document.createElement('div');\n",
              "        docLink.innerHTML = docLinkHtml;\n",
              "        element.appendChild(docLink);\n",
              "      }\n",
              "    </script>\n",
              "  </div>\n",
              "\n",
              "\n",
              "<div id=\"df-e5239115-34d5-4fd4-8a79-5d1a43024234\">\n",
              "  <button class=\"colab-df-quickchart\" onclick=\"quickchart('df-e5239115-34d5-4fd4-8a79-5d1a43024234')\"\n",
              "            title=\"Suggest charts\"\n",
              "            style=\"display:none;\">\n",
              "\n",
              "<svg xmlns=\"http://www.w3.org/2000/svg\" height=\"24px\"viewBox=\"0 0 24 24\"\n",
              "     width=\"24px\">\n",
              "    <g>\n",
              "        <path d=\"M19 3H5c-1.1 0-2 .9-2 2v14c0 1.1.9 2 2 2h14c1.1 0 2-.9 2-2V5c0-1.1-.9-2-2-2zM9 17H7v-7h2v7zm4 0h-2V7h2v10zm4 0h-2v-4h2v4z\"/>\n",
              "    </g>\n",
              "</svg>\n",
              "  </button>\n",
              "\n",
              "<style>\n",
              "  .colab-df-quickchart {\n",
              "      --bg-color: #E8F0FE;\n",
              "      --fill-color: #1967D2;\n",
              "      --hover-bg-color: #E2EBFA;\n",
              "      --hover-fill-color: #174EA6;\n",
              "      --disabled-fill-color: #AAA;\n",
              "      --disabled-bg-color: #DDD;\n",
              "  }\n",
              "\n",
              "  [theme=dark] .colab-df-quickchart {\n",
              "      --bg-color: #3B4455;\n",
              "      --fill-color: #D2E3FC;\n",
              "      --hover-bg-color: #434B5C;\n",
              "      --hover-fill-color: #FFFFFF;\n",
              "      --disabled-bg-color: #3B4455;\n",
              "      --disabled-fill-color: #666;\n",
              "  }\n",
              "\n",
              "  .colab-df-quickchart {\n",
              "    background-color: var(--bg-color);\n",
              "    border: none;\n",
              "    border-radius: 50%;\n",
              "    cursor: pointer;\n",
              "    display: none;\n",
              "    fill: var(--fill-color);\n",
              "    height: 32px;\n",
              "    padding: 0;\n",
              "    width: 32px;\n",
              "  }\n",
              "\n",
              "  .colab-df-quickchart:hover {\n",
              "    background-color: var(--hover-bg-color);\n",
              "    box-shadow: 0 1px 2px rgba(60, 64, 67, 0.3), 0 1px 3px 1px rgba(60, 64, 67, 0.15);\n",
              "    fill: var(--button-hover-fill-color);\n",
              "  }\n",
              "\n",
              "  .colab-df-quickchart-complete:disabled,\n",
              "  .colab-df-quickchart-complete:disabled:hover {\n",
              "    background-color: var(--disabled-bg-color);\n",
              "    fill: var(--disabled-fill-color);\n",
              "    box-shadow: none;\n",
              "  }\n",
              "\n",
              "  .colab-df-spinner {\n",
              "    border: 2px solid var(--fill-color);\n",
              "    border-color: transparent;\n",
              "    border-bottom-color: var(--fill-color);\n",
              "    animation:\n",
              "      spin 1s steps(1) infinite;\n",
              "  }\n",
              "\n",
              "  @keyframes spin {\n",
              "    0% {\n",
              "      border-color: transparent;\n",
              "      border-bottom-color: var(--fill-color);\n",
              "      border-left-color: var(--fill-color);\n",
              "    }\n",
              "    20% {\n",
              "      border-color: transparent;\n",
              "      border-left-color: var(--fill-color);\n",
              "      border-top-color: var(--fill-color);\n",
              "    }\n",
              "    30% {\n",
              "      border-color: transparent;\n",
              "      border-left-color: var(--fill-color);\n",
              "      border-top-color: var(--fill-color);\n",
              "      border-right-color: var(--fill-color);\n",
              "    }\n",
              "    40% {\n",
              "      border-color: transparent;\n",
              "      border-right-color: var(--fill-color);\n",
              "      border-top-color: var(--fill-color);\n",
              "    }\n",
              "    60% {\n",
              "      border-color: transparent;\n",
              "      border-right-color: var(--fill-color);\n",
              "    }\n",
              "    80% {\n",
              "      border-color: transparent;\n",
              "      border-right-color: var(--fill-color);\n",
              "      border-bottom-color: var(--fill-color);\n",
              "    }\n",
              "    90% {\n",
              "      border-color: transparent;\n",
              "      border-bottom-color: var(--fill-color);\n",
              "    }\n",
              "  }\n",
              "</style>\n",
              "\n",
              "  <script>\n",
              "    async function quickchart(key) {\n",
              "      const quickchartButtonEl =\n",
              "        document.querySelector('#' + key + ' button');\n",
              "      quickchartButtonEl.disabled = true;  // To prevent multiple clicks.\n",
              "      quickchartButtonEl.classList.add('colab-df-spinner');\n",
              "      try {\n",
              "        const charts = await google.colab.kernel.invokeFunction(\n",
              "            'suggestCharts', [key], {});\n",
              "      } catch (error) {\n",
              "        console.error('Error during call to suggestCharts:', error);\n",
              "      }\n",
              "      quickchartButtonEl.classList.remove('colab-df-spinner');\n",
              "      quickchartButtonEl.classList.add('colab-df-quickchart-complete');\n",
              "    }\n",
              "    (() => {\n",
              "      let quickchartButtonEl =\n",
              "        document.querySelector('#df-e5239115-34d5-4fd4-8a79-5d1a43024234 button');\n",
              "      quickchartButtonEl.style.display =\n",
              "        google.colab.kernel.accessAllowed ? 'block' : 'none';\n",
              "    })();\n",
              "  </script>\n",
              "</div>\n",
              "    </div>\n",
              "  </div>\n"
            ],
            "application/vnd.google.colaboratory.intrinsic+json": {
              "type": "dataframe",
              "variable_name": "df"
            }
          },
          "metadata": {},
          "execution_count": 29
        }
      ]
    },
    {
      "cell_type": "code",
      "source": [
        "df[\"CustomerID\"] = df[\"CustomerID\"].fillna(-1).astype(str)\n",
        "df[\"CustomerID\"].head()"
      ],
      "metadata": {
        "colab": {
          "base_uri": "https://localhost:8080/",
          "height": 241
        },
        "id": "eIpiFNPpx5uX",
        "outputId": "726eccce-fd60-44e9-e70e-f778ba24a87e"
      },
      "id": "eIpiFNPpx5uX",
      "execution_count": 34,
      "outputs": [
        {
          "output_type": "execute_result",
          "data": {
            "text/plain": [
              "0    17850.0\n",
              "1    17850.0\n",
              "2    17850.0\n",
              "3    17850.0\n",
              "4    17850.0\n",
              "Name: CustomerID, dtype: object"
            ],
            "text/html": [
              "<div>\n",
              "<style scoped>\n",
              "    .dataframe tbody tr th:only-of-type {\n",
              "        vertical-align: middle;\n",
              "    }\n",
              "\n",
              "    .dataframe tbody tr th {\n",
              "        vertical-align: top;\n",
              "    }\n",
              "\n",
              "    .dataframe thead th {\n",
              "        text-align: right;\n",
              "    }\n",
              "</style>\n",
              "<table border=\"1\" class=\"dataframe\">\n",
              "  <thead>\n",
              "    <tr style=\"text-align: right;\">\n",
              "      <th></th>\n",
              "      <th>CustomerID</th>\n",
              "    </tr>\n",
              "  </thead>\n",
              "  <tbody>\n",
              "    <tr>\n",
              "      <th>0</th>\n",
              "      <td>17850.0</td>\n",
              "    </tr>\n",
              "    <tr>\n",
              "      <th>1</th>\n",
              "      <td>17850.0</td>\n",
              "    </tr>\n",
              "    <tr>\n",
              "      <th>2</th>\n",
              "      <td>17850.0</td>\n",
              "    </tr>\n",
              "    <tr>\n",
              "      <th>3</th>\n",
              "      <td>17850.0</td>\n",
              "    </tr>\n",
              "    <tr>\n",
              "      <th>4</th>\n",
              "      <td>17850.0</td>\n",
              "    </tr>\n",
              "  </tbody>\n",
              "</table>\n",
              "</div><br><label><b>dtype:</b> object</label>"
            ]
          },
          "metadata": {},
          "execution_count": 34
        }
      ]
    },
    {
      "cell_type": "code",
      "source": [
        "! pip install sweetviz"
      ],
      "metadata": {
        "colab": {
          "base_uri": "https://localhost:8080/"
        },
        "id": "4bLrJWEo180n",
        "outputId": "799dc934-5b37-4836-90f2-8d771783d185"
      },
      "id": "4bLrJWEo180n",
      "execution_count": 35,
      "outputs": [
        {
          "output_type": "stream",
          "name": "stdout",
          "text": [
            "Collecting sweetviz\n",
            "  Downloading sweetviz-2.3.1-py3-none-any.whl.metadata (24 kB)\n",
            "Requirement already satisfied: pandas!=1.0.0,!=1.0.1,!=1.0.2,>=0.25.3 in /usr/local/lib/python3.11/dist-packages (from sweetviz) (2.2.2)\n",
            "Requirement already satisfied: numpy>=1.16.0 in /usr/local/lib/python3.11/dist-packages (from sweetviz) (1.26.4)\n",
            "Requirement already satisfied: matplotlib>=3.1.3 in /usr/local/lib/python3.11/dist-packages (from sweetviz) (3.10.0)\n",
            "Requirement already satisfied: tqdm>=4.43.0 in /usr/local/lib/python3.11/dist-packages (from sweetviz) (4.67.1)\n",
            "Requirement already satisfied: scipy>=1.3.2 in /usr/local/lib/python3.11/dist-packages (from sweetviz) (1.13.1)\n",
            "Requirement already satisfied: jinja2>=2.11.1 in /usr/local/lib/python3.11/dist-packages (from sweetviz) (3.1.5)\n",
            "Requirement already satisfied: importlib-resources>=1.2.0 in /usr/local/lib/python3.11/dist-packages (from sweetviz) (6.5.2)\n",
            "Requirement already satisfied: MarkupSafe>=2.0 in /usr/local/lib/python3.11/dist-packages (from jinja2>=2.11.1->sweetviz) (3.0.2)\n",
            "Requirement already satisfied: contourpy>=1.0.1 in /usr/local/lib/python3.11/dist-packages (from matplotlib>=3.1.3->sweetviz) (1.3.1)\n",
            "Requirement already satisfied: cycler>=0.10 in /usr/local/lib/python3.11/dist-packages (from matplotlib>=3.1.3->sweetviz) (0.12.1)\n",
            "Requirement already satisfied: fonttools>=4.22.0 in /usr/local/lib/python3.11/dist-packages (from matplotlib>=3.1.3->sweetviz) (4.55.8)\n",
            "Requirement already satisfied: kiwisolver>=1.3.1 in /usr/local/lib/python3.11/dist-packages (from matplotlib>=3.1.3->sweetviz) (1.4.8)\n",
            "Requirement already satisfied: packaging>=20.0 in /usr/local/lib/python3.11/dist-packages (from matplotlib>=3.1.3->sweetviz) (24.2)\n",
            "Requirement already satisfied: pillow>=8 in /usr/local/lib/python3.11/dist-packages (from matplotlib>=3.1.3->sweetviz) (11.1.0)\n",
            "Requirement already satisfied: pyparsing>=2.3.1 in /usr/local/lib/python3.11/dist-packages (from matplotlib>=3.1.3->sweetviz) (3.2.1)\n",
            "Requirement already satisfied: python-dateutil>=2.7 in /usr/local/lib/python3.11/dist-packages (from matplotlib>=3.1.3->sweetviz) (2.8.2)\n",
            "Requirement already satisfied: pytz>=2020.1 in /usr/local/lib/python3.11/dist-packages (from pandas!=1.0.0,!=1.0.1,!=1.0.2,>=0.25.3->sweetviz) (2025.1)\n",
            "Requirement already satisfied: tzdata>=2022.7 in /usr/local/lib/python3.11/dist-packages (from pandas!=1.0.0,!=1.0.1,!=1.0.2,>=0.25.3->sweetviz) (2025.1)\n",
            "Requirement already satisfied: six>=1.5 in /usr/local/lib/python3.11/dist-packages (from python-dateutil>=2.7->matplotlib>=3.1.3->sweetviz) (1.17.0)\n",
            "Downloading sweetviz-2.3.1-py3-none-any.whl (15.1 MB)\n",
            "\u001b[2K   \u001b[90m━━━━━━━━━━━━━━━━━━━━━━━━━━━━━━━━━━━━━━━━\u001b[0m \u001b[32m15.1/15.1 MB\u001b[0m \u001b[31m68.7 MB/s\u001b[0m eta \u001b[36m0:00:00\u001b[0m\n",
            "\u001b[?25hInstalling collected packages: sweetviz\n",
            "Successfully installed sweetviz-2.3.1\n"
          ]
        }
      ]
    },
    {
      "cell_type": "code",
      "source": [
        "import sweetviz as sv\n",
        "import warnings\n",
        "\n",
        "with warnings.catch_warnings(record=True):\n",
        "\n",
        "    df_germany = df[df[\"Country\"] == \"Germany\"]\n",
        "    df_france = df[df[\"Country\"] == \"France\"]\n",
        "\n",
        "    report = sv.compare([df_germany, \"Germany\"], [df_france, \"France\"])\n",
        "\n",
        "    report.show_html(\"drive/MyDrive/Colab Notebooks/data/ecommerce_report.html\")\n"
      ],
      "metadata": {
        "colab": {
          "base_uri": "https://localhost:8080/",
          "height": 67,
          "referenced_widgets": [
            "a1f41d3d326c4e68a03825b2ba002cb4",
            "10f66abd746243f19ee243d707e6e63b",
            "72a354291c6c43c19f872fdef6785593",
            "47e2ed6f501946a891cf2bd69b8c441b",
            "f268fe3b5182423a9623b76744219716",
            "70f5e085cd254ca9aecda051bd7d81f2",
            "cca671d4a5ef448eb756e8da93e371e0",
            "0932deb0f3c24620beb90a22b6b85c18",
            "863c8d4aba59435caebbe0e5167ab491",
            "8fda9cb48cc2485bb58f2ddaca1a6a77",
            "afb205ecc50247cfb6805a04e7259fcb"
          ]
        },
        "id": "kYU8DDlP1_mB",
        "outputId": "e58b55a6-abf1-44bf-85b1-9c9625e2285b"
      },
      "id": "kYU8DDlP1_mB",
      "execution_count": 40,
      "outputs": [
        {
          "output_type": "display_data",
          "data": {
            "text/plain": [
              "                                             |          | [  0%]   00:00 -> (? left)"
            ],
            "application/vnd.jupyter.widget-view+json": {
              "version_major": 2,
              "version_minor": 0,
              "model_id": "a1f41d3d326c4e68a03825b2ba002cb4"
            }
          },
          "metadata": {}
        },
        {
          "output_type": "stream",
          "name": "stdout",
          "text": [
            "Report drive/MyDrive/Colab Notebooks/data/ecommerce_report.html was generated! NOTEBOOK/COLAB USERS: the web browser MAY not pop up, regardless, the report IS saved in your notebook/colab files.\n"
          ]
        }
      ]
    },
    {
      "cell_type": "markdown",
      "source": [
        "У Франції товари дорожчі в середньому, ніж у Німеччині. У Німеччині відбулося більше транзакцій, ніж у Франції. У Франції клієнти замовляють трохи більше одиниць товару за один раз.У Німеччині більше унікальних клієнтів, що може свідчити про більшу аудиторію.У Німеччині повернень значно більше, ніж у Франції, що може вказувати на відмінності в політиці повернень або задоволеності клієнтів."
      ],
      "metadata": {
        "id": "HrEs2fP16ofN"
      },
      "id": "HrEs2fP16ofN"
    },
    {
      "cell_type": "markdown",
      "source": [],
      "metadata": {
        "id": "GJaw4Rzy6nk9"
      },
      "id": "GJaw4Rzy6nk9"
    },
    {
      "cell_type": "markdown",
      "id": "07ae375a",
      "metadata": {
        "ExecuteTime": {
          "end_time": "2023-07-30T18:55:42.650457Z",
          "start_time": "2023-07-30T18:55:42.635729Z"
        },
        "id": "07ae375a"
      },
      "source": [
        "8.З допомогою ChatGPT виявіть, чи є та які помилки в наступному коді.  \n",
        "Попросіть після цього переписати код із дотриманням PEP8. Проаналізуйте результат. Чи справді ChatGPT виправив всі стилістичні помилки? Якщо ні, напишіть йому ще кілька запитів, аби код відповідав вимогам PEP8.  \n",
        "Вставте фінальну версію коду з чату у ноутбук та запустіть на заданому списку. Має вертатись 50.  \n",
        "Напишіть, які промпти (інструкції) при зверненні до ChatGPT ви застосували та додайте скріншот(-и) з промптами та відповідями чата.  \n",
        "Якщо зробили висновки при виконанні цього завдання, то діліться також :)\n",
        "\n",
        "**ЯК ВСТАВИТИ СКРІНШОТ в Jupyter Notebook** :\n",
        "1. Створіть нову Markdown клітинку\n",
        "2. В новоствореній клітинці обираєте в меню Jupyter Notebook Edit -> Insert Image\n",
        "3. Обираєте картинку\n",
        "4. В клітинці має зʼявитись текст, який містить картинку. Запустіть клітинку.\n",
        "\n",
        "Або можна просто перетягнути картинку в Markdown клітинку."
      ]
    },
    {
      "cell_type": "code",
      "execution_count": 46,
      "id": "a5c010c4",
      "metadata": {
        "ExecuteTime": {
          "end_time": "2023-07-30T19:16:20.977219Z",
          "start_time": "2023-07-30T19:16:20.973688Z"
        },
        "id": "a5c010c4"
      },
      "outputs": [],
      "source": [
        "def CalculateVariance(nl):\n",
        "    sum_list = 0\n",
        "    for n in nl:\n",
        "        sum_list = sum_list + n\n",
        "    mean = sum_list / len(nl)\n",
        "    sum_squares = 0\n",
        "    for n in nl:\n",
        "        sum_squares = sum_squares + n**2\n",
        "    mean_squares = sum_squares / len(nl)\n",
        "    return mean_squares"
      ]
    },
    {
      "cell_type": "code",
      "source": [
        "def calculate_variance(numbers: list) -> float:\n",
        "    \"\"\"\n",
        "    Calculate the variance of a list of numbers.\n",
        "\n",
        "    :param numbers: List of numerical values.\n",
        "    :return: Variance of the numbers.\n",
        "    \"\"\"\n",
        "    mean = sum(numbers) / len(numbers)\n",
        "    mean_squares = sum(n**2 for n in numbers) / len(numbers)\n",
        "    variance = mean_squares - mean**2  # Variance formula\n",
        "    return variance\n"
      ],
      "metadata": {
        "id": "Dp7Eg2Gt8yaZ"
      },
      "id": "Dp7Eg2Gt8yaZ",
      "execution_count": 47,
      "outputs": []
    },
    {
      "cell_type": "code",
      "execution_count": 48,
      "id": "24bb3f81",
      "metadata": {
        "ExecuteTime": {
          "end_time": "2023-07-30T19:16:09.201841Z",
          "start_time": "2023-07-30T19:16:09.199174Z"
        },
        "id": "24bb3f81",
        "colab": {
          "base_uri": "https://localhost:8080/"
        },
        "outputId": "d6ca4bed-db66-4027-fe31-5162e4ebd406"
      },
      "outputs": [
        {
          "output_type": "execute_result",
          "data": {
            "text/plain": [
              "50.0"
            ]
          },
          "metadata": {},
          "execution_count": 48
        }
      ],
      "source": [
        "input_list = [75, 80, 85, 90, 95]\n",
        "calculate_variance(input_list)"
      ]
    },
    {
      "cell_type": "markdown",
      "source": [
        "![Знімок екрана 2025-02-09 202719.png](data:image/png;base64,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)"
      ],
      "metadata": {
        "id": "--dwoxAD9qfO"
      },
      "id": "--dwoxAD9qfO"
    },
    {
      "cell_type": "markdown",
      "source": [
        "![Знімок екрана 2025-02-09 202852.png](data:image/png;base64,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)"
      ],
      "metadata": {
        "id": "amAfflal9-6G"
      },
      "id": "amAfflal9-6G"
    },
    {
      "cell_type": "markdown",
      "source": [
        "![Знімок екрана 2025-02-09 202910.png](data:image/png;base64,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)"
      ],
      "metadata": {
        "id": "xFAZMIhi-W9f"
      },
      "id": "xFAZMIhi-W9f"
    },
    {
      "cell_type": "code",
      "source": [],
      "metadata": {
        "id": "-1o1ZLq8-Yss"
      },
      "id": "-1o1ZLq8-Yss",
      "execution_count": null,
      "outputs": []
    }
  ],
  "metadata": {
    "kernelspec": {
      "display_name": "Python 3 (ipykernel)",
      "language": "python",
      "name": "python3"
    },
    "language_info": {
      "codemirror_mode": {
        "name": "ipython",
        "version": 3
      },
      "file_extension": ".py",
      "mimetype": "text/x-python",
      "name": "python",
      "nbconvert_exporter": "python",
      "pygments_lexer": "ipython3",
      "version": "3.10.4"
    },
    "toc": {
      "base_numbering": 1,
      "nav_menu": {},
      "number_sections": true,
      "sideBar": true,
      "skip_h1_title": false,
      "title_cell": "Table of Contents",
      "title_sidebar": "Contents",
      "toc_cell": false,
      "toc_position": {},
      "toc_section_display": true,
      "toc_window_display": false
    },
    "colab": {
      "provenance": []
    },
    "widgets": {
      "application/vnd.jupyter.widget-state+json": {
        "a1f41d3d326c4e68a03825b2ba002cb4": {
          "model_module": "@jupyter-widgets/controls",
          "model_name": "HBoxModel",
          "model_module_version": "1.5.0",
          "state": {
            "_dom_classes": [],
            "_model_module": "@jupyter-widgets/controls",
            "_model_module_version": "1.5.0",
            "_model_name": "HBoxModel",
            "_view_count": null,
            "_view_module": "@jupyter-widgets/controls",
            "_view_module_version": "1.5.0",
            "_view_name": "HBoxView",
            "box_style": "",
            "children": [
              "IPY_MODEL_10f66abd746243f19ee243d707e6e63b",
              "IPY_MODEL_72a354291c6c43c19f872fdef6785593",
              "IPY_MODEL_47e2ed6f501946a891cf2bd69b8c441b"
            ],
            "layout": "IPY_MODEL_f268fe3b5182423a9623b76744219716"
          }
        },
        "10f66abd746243f19ee243d707e6e63b": {
          "model_module": "@jupyter-widgets/controls",
          "model_name": "HTMLModel",
          "model_module_version": "1.5.0",
          "state": {
            "_dom_classes": [],
            "_model_module": "@jupyter-widgets/controls",
            "_model_module_version": "1.5.0",
            "_model_name": "HTMLModel",
            "_view_count": null,
            "_view_module": "@jupyter-widgets/controls",
            "_view_module_version": "1.5.0",
            "_view_name": "HTMLView",
            "description": "",
            "description_tooltip": null,
            "layout": "IPY_MODEL_70f5e085cd254ca9aecda051bd7d81f2",
            "placeholder": "​",
            "style": "IPY_MODEL_cca671d4a5ef448eb756e8da93e371e0",
            "value": "Done! Use &#x27;show&#x27; commands to display/save.   "
          }
        },
        "72a354291c6c43c19f872fdef6785593": {
          "model_module": "@jupyter-widgets/controls",
          "model_name": "FloatProgressModel",
          "model_module_version": "1.5.0",
          "state": {
            "_dom_classes": [],
            "_model_module": "@jupyter-widgets/controls",
            "_model_module_version": "1.5.0",
            "_model_name": "FloatProgressModel",
            "_view_count": null,
            "_view_module": "@jupyter-widgets/controls",
            "_view_module_version": "1.5.0",
            "_view_name": "ProgressView",
            "bar_style": "success",
            "description": "",
            "description_tooltip": null,
            "layout": "IPY_MODEL_0932deb0f3c24620beb90a22b6b85c18",
            "max": 1,
            "min": 0,
            "orientation": "horizontal",
            "style": "IPY_MODEL_863c8d4aba59435caebbe0e5167ab491",
            "value": 1
          }
        },
        "47e2ed6f501946a891cf2bd69b8c441b": {
          "model_module": "@jupyter-widgets/controls",
          "model_name": "HTMLModel",
          "model_module_version": "1.5.0",
          "state": {
            "_dom_classes": [],
            "_model_module": "@jupyter-widgets/controls",
            "_model_module_version": "1.5.0",
            "_model_name": "HTMLModel",
            "_view_count": null,
            "_view_module": "@jupyter-widgets/controls",
            "_view_module_version": "1.5.0",
            "_view_name": "HTMLView",
            "description": "",
            "description_tooltip": null,
            "layout": "IPY_MODEL_8fda9cb48cc2485bb58f2ddaca1a6a77",
            "placeholder": "​",
            "style": "IPY_MODEL_afb205ecc50247cfb6805a04e7259fcb",
            "value": " [100%]   00:01 -&gt; (00:00 left)"
          }
        },
        "f268fe3b5182423a9623b76744219716": {
          "model_module": "@jupyter-widgets/base",
          "model_name": "LayoutModel",
          "model_module_version": "1.2.0",
          "state": {
            "_model_module": "@jupyter-widgets/base",
            "_model_module_version": "1.2.0",
            "_model_name": "LayoutModel",
            "_view_count": null,
            "_view_module": "@jupyter-widgets/base",
            "_view_module_version": "1.2.0",
            "_view_name": "LayoutView",
            "align_content": null,
            "align_items": null,
            "align_self": null,
            "border": null,
            "bottom": null,
            "display": "inline-flex",
            "flex": null,
            "flex_flow": "row wrap",
            "grid_area": null,
            "grid_auto_columns": null,
            "grid_auto_flow": null,
            "grid_auto_rows": null,
            "grid_column": null,
            "grid_gap": null,
            "grid_row": null,
            "grid_template_areas": null,
            "grid_template_columns": null,
            "grid_template_rows": null,
            "height": null,
            "justify_content": null,
            "justify_items": null,
            "left": null,
            "margin": null,
            "max_height": null,
            "max_width": null,
            "min_height": null,
            "min_width": null,
            "object_fit": null,
            "object_position": null,
            "order": null,
            "overflow": null,
            "overflow_x": null,
            "overflow_y": null,
            "padding": null,
            "right": null,
            "top": null,
            "visibility": null,
            "width": "100%"
          }
        },
        "70f5e085cd254ca9aecda051bd7d81f2": {
          "model_module": "@jupyter-widgets/base",
          "model_name": "LayoutModel",
          "model_module_version": "1.2.0",
          "state": {
            "_model_module": "@jupyter-widgets/base",
            "_model_module_version": "1.2.0",
            "_model_name": "LayoutModel",
            "_view_count": null,
            "_view_module": "@jupyter-widgets/base",
            "_view_module_version": "1.2.0",
            "_view_name": "LayoutView",
            "align_content": null,
            "align_items": null,
            "align_self": null,
            "border": null,
            "bottom": null,
            "display": null,
            "flex": null,
            "flex_flow": null,
            "grid_area": null,
            "grid_auto_columns": null,
            "grid_auto_flow": null,
            "grid_auto_rows": null,
            "grid_column": null,
            "grid_gap": null,
            "grid_row": null,
            "grid_template_areas": null,
            "grid_template_columns": null,
            "grid_template_rows": null,
            "height": null,
            "justify_content": null,
            "justify_items": null,
            "left": null,
            "margin": null,
            "max_height": null,
            "max_width": null,
            "min_height": null,
            "min_width": null,
            "object_fit": null,
            "object_position": null,
            "order": null,
            "overflow": null,
            "overflow_x": null,
            "overflow_y": null,
            "padding": null,
            "right": null,
            "top": null,
            "visibility": null,
            "width": null
          }
        },
        "cca671d4a5ef448eb756e8da93e371e0": {
          "model_module": "@jupyter-widgets/controls",
          "model_name": "DescriptionStyleModel",
          "model_module_version": "1.5.0",
          "state": {
            "_model_module": "@jupyter-widgets/controls",
            "_model_module_version": "1.5.0",
            "_model_name": "DescriptionStyleModel",
            "_view_count": null,
            "_view_module": "@jupyter-widgets/base",
            "_view_module_version": "1.2.0",
            "_view_name": "StyleView",
            "description_width": ""
          }
        },
        "0932deb0f3c24620beb90a22b6b85c18": {
          "model_module": "@jupyter-widgets/base",
          "model_name": "LayoutModel",
          "model_module_version": "1.2.0",
          "state": {
            "_model_module": "@jupyter-widgets/base",
            "_model_module_version": "1.2.0",
            "_model_name": "LayoutModel",
            "_view_count": null,
            "_view_module": "@jupyter-widgets/base",
            "_view_module_version": "1.2.0",
            "_view_name": "LayoutView",
            "align_content": null,
            "align_items": null,
            "align_self": null,
            "border": null,
            "bottom": null,
            "display": null,
            "flex": "2",
            "flex_flow": null,
            "grid_area": null,
            "grid_auto_columns": null,
            "grid_auto_flow": null,
            "grid_auto_rows": null,
            "grid_column": null,
            "grid_gap": null,
            "grid_row": null,
            "grid_template_areas": null,
            "grid_template_columns": null,
            "grid_template_rows": null,
            "height": null,
            "justify_content": null,
            "justify_items": null,
            "left": null,
            "margin": null,
            "max_height": null,
            "max_width": null,
            "min_height": null,
            "min_width": null,
            "object_fit": null,
            "object_position": null,
            "order": null,
            "overflow": null,
            "overflow_x": null,
            "overflow_y": null,
            "padding": null,
            "right": null,
            "top": null,
            "visibility": null,
            "width": null
          }
        },
        "863c8d4aba59435caebbe0e5167ab491": {
          "model_module": "@jupyter-widgets/controls",
          "model_name": "ProgressStyleModel",
          "model_module_version": "1.5.0",
          "state": {
            "_model_module": "@jupyter-widgets/controls",
            "_model_module_version": "1.5.0",
            "_model_name": "ProgressStyleModel",
            "_view_count": null,
            "_view_module": "@jupyter-widgets/base",
            "_view_module_version": "1.2.0",
            "_view_name": "StyleView",
            "bar_color": null,
            "description_width": ""
          }
        },
        "8fda9cb48cc2485bb58f2ddaca1a6a77": {
          "model_module": "@jupyter-widgets/base",
          "model_name": "LayoutModel",
          "model_module_version": "1.2.0",
          "state": {
            "_model_module": "@jupyter-widgets/base",
            "_model_module_version": "1.2.0",
            "_model_name": "LayoutModel",
            "_view_count": null,
            "_view_module": "@jupyter-widgets/base",
            "_view_module_version": "1.2.0",
            "_view_name": "LayoutView",
            "align_content": null,
            "align_items": null,
            "align_self": null,
            "border": null,
            "bottom": null,
            "display": null,
            "flex": null,
            "flex_flow": null,
            "grid_area": null,
            "grid_auto_columns": null,
            "grid_auto_flow": null,
            "grid_auto_rows": null,
            "grid_column": null,
            "grid_gap": null,
            "grid_row": null,
            "grid_template_areas": null,
            "grid_template_columns": null,
            "grid_template_rows": null,
            "height": null,
            "justify_content": null,
            "justify_items": null,
            "left": null,
            "margin": null,
            "max_height": null,
            "max_width": null,
            "min_height": null,
            "min_width": null,
            "object_fit": null,
            "object_position": null,
            "order": null,
            "overflow": null,
            "overflow_x": null,
            "overflow_y": null,
            "padding": null,
            "right": null,
            "top": null,
            "visibility": null,
            "width": null
          }
        },
        "afb205ecc50247cfb6805a04e7259fcb": {
          "model_module": "@jupyter-widgets/controls",
          "model_name": "DescriptionStyleModel",
          "model_module_version": "1.5.0",
          "state": {
            "_model_module": "@jupyter-widgets/controls",
            "_model_module_version": "1.5.0",
            "_model_name": "DescriptionStyleModel",
            "_view_count": null,
            "_view_module": "@jupyter-widgets/base",
            "_view_module_version": "1.2.0",
            "_view_name": "StyleView",
            "description_width": ""
          }
        }
      }
    }
  },
  "nbformat": 4,
  "nbformat_minor": 5
}